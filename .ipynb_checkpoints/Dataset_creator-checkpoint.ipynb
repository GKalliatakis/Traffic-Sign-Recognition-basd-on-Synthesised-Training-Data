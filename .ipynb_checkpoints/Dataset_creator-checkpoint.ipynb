{
 "cells": [
  {
   "cell_type": "code",
   "execution_count": 135,
   "metadata": {},
   "outputs": [],
   "source": [
    "import numpy as np\n",
    "import matplotlib\n",
    "import os\n",
    "import cv2\n",
    "from skimage import io\n",
    "from skimage import color, exposure, transform\n",
    "from PIL import Image, ImageChops, ImageDraw, ImageOps, ImageFilter \n",
    "import imutils\n",
    "import argparse\n",
    "import ntpath\n",
    "import sys\n",
    "import matplotlib.pyplot as plt"
   ]
  },
  {
   "cell_type": "code",
   "execution_count": 136,
   "metadata": {
    "collapsed": true
   },
   "outputs": [],
   "source": [
    "def load_templates(directory):\n",
    "    paths = []\n",
    "    for files in os.listdir(directory):\n",
    "        if (files != \".DS_Store\"):\n",
    "            paths.append(directory+'/'+files)\n",
    "    return paths"
   ]
  },
  {
   "cell_type": "code",
   "execution_count": 137,
   "metadata": {},
   "outputs": [],
   "source": [
    "def manipulate_images(paths):\n",
    "    \n",
    "    for image_path in paths:\n",
    "        \n",
    "        \n",
    "        \n",
    "        img = Image.open(image_path)\n",
    "        pix = img.load()\n",
    "        \n",
    "        \n",
    "        borders = []\n",
    "        roi_right = []\n",
    "        roi_left = []\n",
    "        \n",
    "        for y in range(0,img.size[1]):\n",
    "            \n",
    "            found = False\n",
    "            \n",
    "            for x in range(1,img.size[0]):\n",
    "\n",
    "                r = pix[x,y][0]\n",
    "                g = pix[x,y][1]\n",
    "                b = pix[x,y][2]\n",
    "                \n",
    "                prev_r = pix[x-1,y][0]\n",
    "                prev_g = pix[x-1,y][1]\n",
    "                prev_b = pix[x-1,y][2]\n",
    "                \n",
    "                if ((abs(prev_r-r)>=20) or (abs(prev_g-g)>=20) or (abs(prev_b-b)>=20)):\n",
    "                    roi_right.append([x,y])\n",
    "                    for i in range(0,x):\n",
    "                        borders.append([i,y])\n",
    "                    found = True\n",
    "                    break\n",
    "            \n",
    "            \n",
    "            \n",
    "            if (found == False):\n",
    "                for i in range(0,img.size[0]-1):\n",
    "                    borders.append([i,y])\n",
    "            \n",
    "              \n",
    "            for x in range(img.size[0]-1,1,-1):\n",
    "                \n",
    "                r = pix[x,y][0]\n",
    "                g = pix[x,y][1]\n",
    "                b = pix[x,y][2]\n",
    "                \n",
    "                prev_r = pix[x-1,y][0]\n",
    "                prev_g = pix[x-1,y][1]\n",
    "                prev_b = pix[x-1,y][2]\n",
    "                \n",
    "                if ((abs(prev_r-r)>=20) or (abs(prev_g-g)>=20) or (abs(prev_b-b)>=20)):\n",
    "                    roi_left.append([x,y])\n",
    "                    for i in range(x,img.size[0]-1):\n",
    "                        borders.append([i,y])\n",
    "                    break\n",
    "         \n",
    "        \n",
    "        image = cv2.imread(image_path, -1)\n",
    "        \n",
    "        b_channel, g_channel, r_channel = cv2.split(image)\n",
    "        alpha_channel = np.ones(b_channel.shape, dtype=b_channel.dtype) * 255 #creating a dummy alpha channel image.\n",
    "        image_RGBA = cv2.merge((b_channel, g_channel, r_channel, alpha_channel))\n",
    "        \n",
    "        height, width, channels = image.shape\n",
    "        \n",
    "        #Deleting white perimeter of shape\n",
    "        for i in range(0,img.size[0]-1):\n",
    "            image_RGBA[0,i][3] = 0\n",
    "            image_RGBA[img.size[1]-1,i][3] = 0\n",
    "        \n",
    "        for i in range(0,img.size[1]-1):\n",
    "            image_RGBA[i,0][3] = 0\n",
    "            image_RGBA[i,img.size[0]-1][3] = 0\n",
    "            \n",
    "        \n",
    "        \n",
    "        for border in borders:\n",
    "            image_RGBA[border[1],border[0]][3] = 0\n",
    "            \n",
    "        \n",
    "        head, tail = ntpath.split(image_path)\n",
    "        \n",
    "        title,extension = tail.split('.')\n",
    "        cv2.imwrite(\"Traffic_Signs_Templates/Processed_Images/\"+title+\".png\", image_RGBA)\n",
    "        \n",
    "        \n",
    "        "
   ]
  },
  {
   "cell_type": "code",
   "execution_count": 138,
   "metadata": {
    "scrolled": true
   },
   "outputs": [],
   "source": [
    "directory = 'Traffic_Signs_Templates/Images'\n",
    "paths = load_templates(directory)\n",
    "manipulate_images(paths)"
   ]
  },
  {
   "cell_type": "code",
   "execution_count": 139,
   "metadata": {
    "collapsed": true
   },
   "outputs": [],
   "source": [
    "def find_coeffs(pa, pb):\n",
    "    matrix = []\n",
    "    for p1, p2 in zip(pa, pb):\n",
    "        matrix.append([p1[0], p1[1], 1, 0, 0, 0, -p2[0]*p1[0], -p2[0]*p1[1]])\n",
    "        matrix.append([0, 0, 0, p1[0], p1[1], 1, -p2[1]*p1[0], -p2[1]*p1[1]])\n",
    "\n",
    "    A = np.matrix(matrix, dtype=np.float)\n",
    "    B = np.array(pb).reshape(8)\n",
    "\n",
    "    res = np.dot(np.linalg.inv(A.T * A) * A.T, B)\n",
    "    return np.array(res).reshape(8)"
   ]
  },
  {
   "cell_type": "code",
   "execution_count": 200,
   "metadata": {},
   "outputs": [],
   "source": [
    "def img_transform(paths):\n",
    "    \n",
    "    for image_path in paths:\n",
    "        img = cv2.imread(image_path)\n",
    "        rows,cols,ch = img.shape\n",
    "        \n",
    "        \n",
    "\n",
    "        pts1 = np.float32([[50,50],[200,50],[50,200]])\n",
    "        pts2 = np.float32([[100,100],[200,50],[100,250]])\n",
    "\n",
    "        M = cv2.getAffineTransform(pts1,pts2)\n",
    "\n",
    "        dst = cv2.warpAffine(img,M,(cols,rows))\n",
    "\n",
    "        plt.subplot(121),plt.imshow(img),plt.title('Input')\n",
    "        plt.subplot(122),plt.imshow(dst),plt.title('Output')\n",
    "        plt.show()\n",
    "        \n",
    "        \n",
    "        \n",
    "        \n",
    "        \n",
    "        \n",
    "        break\n",
    "        \"\"\"\n",
    "        img = Image.open(image_path)\n",
    "        width, height = img.size\n",
    "        m = -0.5\n",
    "        xshift = abs(m) * width\n",
    "        new_width = width + int(round(xshift))\n",
    "        img = img.transform((new_width, height), Image.AFFINE,(1, m, -xshift if m > 0 else 0, 0, 1, 0), Image.BICUBIC)\n",
    "\n",
    "        img.show()\n",
    "        break\n",
    "        \"\"\""
   ]
  },
  {
   "cell_type": "code",
   "execution_count": 201,
   "metadata": {},
   "outputs": [
    {
     "data": {
      "image/png": "[encoded data removed]",
      "text/plain": [
       "<matplotlib.figure.Figure at 0x1160dd810>"
      ]
     },
     "metadata": {},
     "output_type": "display_data"
    }
   ],
   "source": [
    "directory = 'Traffic_Signs_Templates/Processed_Images'\n",
    "paths = load_templates(directory)\n",
    "img_transform(paths)"
   ]
  },
  {
   "cell_type": "code",
   "execution_count": null,
   "metadata": {
    "collapsed": true
   },
   "outputs": [],
   "source": []
  }
 ],
 "metadata": {
  "kernelspec": {
   "display_name": "Python 2",
   "language": "python",
   "name": "python2"
  },
  "language_info": {
   "codemirror_mode": {
    "name": "ipython",
    "version": 2
   },
   "file_extension": ".py",
   "mimetype": "text/x-python",
   "name": "python",
   "nbconvert_exporter": "python",
   "pygments_lexer": "ipython2",
   "version": "2.7.13"
  }
 },
 "nbformat": 4,
 "nbformat_minor": 2
}
