{
 "cells": [
  {
   "cell_type": "code",
   "execution_count": 57,
   "metadata": {},
   "outputs": [],
   "source": [
    "import numpy as np\n",
    "import matplotlib\n",
    "import matplotlib.pyplot as plt\n",
    "import os\n",
    "import cv2\n",
    "import pandas as pd\n",
    "from skimage import io\n",
    "from skimage import color, exposure, transform\n",
    "from PIL import Image, ImageChops, ImageDraw, ImageOps, ImageFilter \n",
    "from osgeo import gdal\n",
    "from scipy import misc\n",
    "import imutils\n",
    "import argparse"
   ]
  },
  {
   "cell_type": "code",
   "execution_count": 58,
   "metadata": {
    "collapsed": true
   },
   "outputs": [],
   "source": [
    "def load_templates(directory):\n",
    "    paths = []\n",
    "    for files in os.listdir(directory):\n",
    "        if (files != \".DS_Store\"):\n",
    "            paths.append(directory+'/'+files)\n",
    "    return paths"
   ]
  },
  {
   "cell_type": "code",
   "execution_count": 65,
   "metadata": {
    "collapsed": true
   },
   "outputs": [],
   "source": [
    "def manipulate_images(paths):\n",
    "    for image_path in paths:\n",
    "        \n",
    "        \n",
    "        \n",
    "        img = Image.open(image_path)\n",
    "        pix = img.load()\n",
    "        img.show()\n",
    "        print \"Image width: \"+str(img.size[0])\n",
    "        print \"Image height: \"+str(img.size[1])\n",
    "        \n",
    "        borders = []\n",
    "        \n",
    "        for y in range(0,img.size[1]):\n",
    "            \n",
    "            found = False\n",
    "            \n",
    "            for x in range(1,img.size[0]-1):\n",
    "                r = pix[x,y][0]\n",
    "                g = pix[x,y][1]\n",
    "                b = pix[x,y][2]\n",
    "                \n",
    "                prev_r = pix[x-1,y][0]\n",
    "                prev_g = pix[x-1,y][1]\n",
    "                prev_b = pix[x-1,y][2]\n",
    "                \n",
    "                if ((abs(prev_r-r)>=20) or (abs(prev_g-g)>=20) or (abs(prev_b-b)>=20)):\n",
    "                    for i in range(0,x):\n",
    "                        borders.append([i,y])\n",
    "                    found = True\n",
    "                    break\n",
    "            \n",
    "            \n",
    "            \n",
    "            if (found == False):\n",
    "                for i in range(0,img.size[0]-1):\n",
    "                    borders.append([i,y])\n",
    "            \n",
    "              \n",
    "            for x in range(img.size[0]-1,1,-1):\n",
    "                \n",
    "                r = pix[x,y][0]\n",
    "                g = pix[x,y][1]\n",
    "                b = pix[x,y][2]\n",
    "                \n",
    "                prev_r = pix[x-1,y][0]\n",
    "                prev_g = pix[x-1,y][1]\n",
    "                prev_b = pix[x-1,y][2]\n",
    "                \n",
    "                if ((abs(prev_r-r)>=20) or (abs(prev_g-g)>=20) or (abs(prev_b-b)>=20)):\n",
    "                    for i in range(x,img.size[0]-1):\n",
    "                        borders.append([i,y])\n",
    "                    break\n",
    "            \n",
    "        \n",
    "        for border in borders:\n",
    "            pix[border[0],border[1]]= (0, 255, 0, 0) \n",
    "         \n",
    "            \n",
    "        img.show()\n",
    "        \n",
    "        \n",
    "                    \n",
    "        break\n",
    "        "
   ]
  },
  {
   "cell_type": "code",
   "execution_count": 66,
   "metadata": {
    "scrolled": true
   },
   "outputs": [
    {
     "name": "stdout",
     "output_type": "stream",
     "text": [
      "Image width: 450\n",
      "Image height: 446\n"
     ]
    }
   ],
   "source": [
    "directory = 'Traffic_Signs_Templates/Images'\n",
    "paths = load_templates(directory)\n",
    "manipulate_images(paths)"
   ]
  },
  {
   "cell_type": "code",
   "execution_count": null,
   "metadata": {
    "collapsed": true
   },
   "outputs": [],
   "source": []
  }
 ],
 "metadata": {
  "kernelspec": {
   "display_name": "Python 2",
   "language": "python",
   "name": "python2"
  },
  "language_info": {
   "codemirror_mode": {
    "name": "ipython",
    "version": 2
   },
   "file_extension": ".py",
   "mimetype": "text/x-python",
   "name": "python",
   "nbconvert_exporter": "python",
   "pygments_lexer": "ipython2",
   "version": "2.7.13"
  }
 },
 "nbformat": 4,
 "nbformat_minor": 2
}
