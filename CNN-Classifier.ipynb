{
 "cells": [
  {
   "cell_type": "code",
   "execution_count": 1,
   "metadata": {
    "slideshow": {
     "slide_type": "-"
    }
   },
   "outputs": [
    {
     "name": "stderr",
     "output_type": "stream",
     "text": [
      "Using TensorFlow backend.\n",
      "/Users/alexandrosstergiou/anaconda/lib/python2.7/site-packages/sklearn/cross_validation.py:44: DeprecationWarning: This module was deprecated in version 0.18 in favor of the model_selection module into which all the refactored classes and functions are moved. Also note that the interface of the new CV iterators are different from that of this module. This module will be removed in 0.20.\n",
      "  \"This module will be removed in 0.20.\", DeprecationWarning)\n"
     ]
    }
   ],
   "source": [
    "import numpy as np\n",
    "import os\n",
    "import pandas as pd\n",
    "from skimage import io\n",
    "from skimage import color, exposure, transform\n",
    "from PIL import Image \n",
    "import cv2\n",
    "import matplotlib\n",
    "import matplotlib.pyplot as plt\n",
    "import numpy as np\n",
    "\n",
    "from skimage import data, img_as_float\n",
    "from skimage import exposure\n",
    "\n",
    "import keras\n",
    "import tensorflow as tf\n",
    "from keras.models import Sequential, Model\n",
    "from keras.layers import Convolution2D \n",
    "from keras.layers import Input, MaxPooling2D, Dense, Dropout, Activation, Flatten\n",
    "from keras.callbacks import LearningRateScheduler, ModelCheckpoint\n",
    "from keras.utils import np_utils \n",
    "\n",
    "from keras.preprocessing.image import ImageDataGenerator\n",
    "from sklearn.cross_validation import train_test_split\n",
    "\n",
    "from tensorflow.contrib import learn\n",
    "from tensorflow.contrib.learn.python.learn.estimators import model_fn as model_fn_lib"
   ]
  },
  {
   "cell_type": "code",
   "execution_count": 2,
   "metadata": {
    "collapsed": true,
    "scrolled": true
   },
   "outputs": [],
   "source": [
    "def analyse_images(imgs_paths):\n",
    "    \n",
    "    data = []\n",
    "    i = 0\n",
    "\n",
    "    for img_path in imgs_paths:\n",
    "        img_class = int(img_path.split('/')[-2])\n",
    "        \n",
    "        img = io.imread(img_path)\n",
    "        \n",
    "        \"\"\"\"\n",
    "        print \"ORIGINAL IMAGE:\"\n",
    "        plt.imshow(img,aspect=\"auto\")\n",
    "        plt.show()\n",
    "        print '\\n'\n",
    "        \"\"\"\n",
    "\n",
    "        rows,col = (img.shape[:2])\n",
    "        if rows>col:\n",
    "            new_side = col\n",
    "        else:\n",
    "            new_side = rows\n",
    "        \n",
    "        srows =  rows//2-new_side//2\n",
    "        frows =  rows//2+new_side//2\n",
    "        \n",
    "        scol =  col//2-new_side//2\n",
    "        fcol =  col//2+new_side//2\n",
    "        \n",
    "        img = img[srows:frows,scol:fcol,:]\n",
    "\n",
    "        # rescale to standard size\n",
    "        img = transform.resize(img, (48, 48))\n",
    "        \n",
    "        # Contrast stretching\n",
    "        p2, p98 = np.percentile(img, (2, 98))\n",
    "        img_contrast = exposure.rescale_intensity(img, in_range=(p2, p98))\n",
    "\n",
    "\n",
    "        # Histogram Equalization\n",
    "        img_eq = exposure.equalize_hist(img)\n",
    "\n",
    "        # Adaptive Equalization\n",
    "        img_adapteq = exposure.equalize_adapthist(img, clip_limit=0.01)\n",
    "\n",
    "        \"\"\"\n",
    "        print \"RESCALED IMAGE:\"\n",
    "        plt.imshow(img,aspect=\"auto\")\n",
    "        plt.show()\n",
    "        print '\\n'\n",
    "        \n",
    "        print \"CONTRAST STRETCHING IMAGE:\"\n",
    "        plt.imshow(img_contrast,aspect=\"auto\")\n",
    "        plt.show()\n",
    "        print '\\n'\n",
    "        \n",
    "        print \"HISTOGRAM EQUATION IMAGE:\"\n",
    "        plt.imshow(img_eq,aspect=\"auto\")\n",
    "        plt.show()\n",
    "        print '\\n'\n",
    "        \n",
    "        print \"ADAPTIVE EQUATION IMAGE:\"\n",
    "        plt.imshow(img_adapteq,aspect=\"auto\")\n",
    "        plt.show()\n",
    "        print '\\n'\n",
    "        \"\"\"\n",
    "        \n",
    "        data.append([img_eq,img_class])\n",
    "        \n",
    "        i = i+1\n",
    "        \n",
    "        if ((i % 1000)== 0):\n",
    "            print (\"Images processed: \")+str(i)\n",
    "        \n",
    "    return data\n",
    "\n",
    "\n"
   ]
  },
  {
   "cell_type": "code",
   "execution_count": 3,
   "metadata": {
    "scrolled": false
   },
   "outputs": [
    {
     "name": "stderr",
     "output_type": "stream",
     "text": [
      "/Users/alexandrosstergiou/anaconda/lib/python2.7/site-packages/skimage/transform/_warps.py:84: UserWarning: The default mode, 'constant', will be changed to 'reflect' in skimage 0.15.\n",
      "  warn(\"The default mode, 'constant', will be changed to 'reflect' in \"\n",
      "/Users/alexandrosstergiou/anaconda/lib/python2.7/site-packages/skimage/exposure/exposure.py:63: UserWarning: This might be a color image. The histogram will be computed on the flattened image. You can instead apply this function to each color channel.\n",
      "  warn(\"This might be a color image. The histogram will be \"\n",
      "/Users/alexandrosstergiou/anaconda/lib/python2.7/site-packages/skimage/util/dtype.py:122: UserWarning: Possible precision loss when converting from float64 to uint16\n",
      "  .format(dtypeobj_in, dtypeobj_out))\n"
     ]
    },
    {
     "name": "stdout",
     "output_type": "stream",
     "text": [
      "Images processed: 1000\n",
      "Images processed: 2000\n",
      "Images processed: 3000\n",
      "Images processed: 4000\n",
      "Images processed: 5000\n",
      "Images processed: 6000\n",
      "Images processed: 7000\n",
      "Images processed: 8000\n",
      "Images processed: 9000\n",
      "Images processed: 10000\n",
      "Images processed: 11000\n",
      "Images processed: 12000\n",
      "Images processed: 13000\n",
      "Images processed: 14000\n",
      "Images processed: 15000\n",
      "Images processed: 16000\n",
      "Images processed: 17000\n",
      "Images processed: 18000\n",
      "Images processed: 19000\n",
      "Images processed: 20000\n",
      "Images processed: 21000\n",
      "Images processed: 22000\n",
      "Images processed: 23000\n",
      "Images processed: 24000\n",
      "Images processed: 25000\n",
      "Images processed: 26000\n",
      "Images processed: 27000\n",
      "Images processed: 28000\n",
      "Images processed: 29000\n",
      "Images processed: 30000\n",
      "Images processed: 31000\n",
      "Images processed: 32000\n",
      "Images processed: 33000\n",
      "Images processed: 34000\n",
      "Images processed: 35000\n",
      "Images processed: 36000\n",
      "Images processed: 37000\n",
      "Images processed: 38000\n",
      "Images processed: 39000\n"
     ]
    }
   ],
   "source": [
    "directory = 'GTSRB/Final_Training/Images/'\n",
    "imgs = []\n",
    "labels = []\n",
    "paths = []\n",
    "number_signs = 0\n",
    "\n",
    "for sub_dir in os.listdir(directory):\n",
    "    sd = directory+sub_dir+'/'\n",
    "    if (sub_dir != \".DS_Store\"):\n",
    "        number_signs = number_signs+1\n",
    "        for files in os.listdir(sd):\n",
    "            if (files.endswith(\".csv\")==False):\n",
    "                paths.append(directory+sub_dir+'/'+files)\n",
    "\n",
    "\n",
    "\n",
    "np.random.shuffle(paths)\n",
    "data = analyse_images(paths)\n",
    "elements = []\n",
    "classes = []\n",
    "for d in data:\n",
    "    elements.append(d[0])\n",
    "    classes.append(d[1])"
   ]
  },
  {
   "cell_type": "code",
   "execution_count": 4,
   "metadata": {
    "collapsed": true
   },
   "outputs": [],
   "source": [
    "def cnn_model(height,width,depth,number_signs):\n",
    "    \n",
    "    \n",
    "    inp = Input(shape=(height, width, depth))\n",
    "    \n",
    "    act= keras.layers.advanced_activations.LeakyReLU(alpha=0.001)\n",
    "    #act = keras.layers.advanced_activations.ELU(alpha=1.0)\n",
    "    conv_1 = Convolution2D(32, (3, 3), padding='same', activation=act)(inp)\n",
    "    conv_2 = Convolution2D(32, (3, 3), padding='same', activation=act)(conv_1)\n",
    "    \n",
    "    pool_1 = MaxPooling2D((2, 2), data_format=\"channels_last\")(conv_2)\n",
    "    drop_1 = Dropout(0.25)(pool_1)\n",
    "\n",
    "    \n",
    "    conv_3 = Convolution2D(64, (3, 3), padding='same', activation=act)(drop_1)\n",
    "    conv_4 = Convolution2D(64, (3, 3), padding='same', activation=act)(conv_3)\n",
    "\n",
    "    pool_2 = MaxPooling2D((2, 2), data_format=\"channels_last\")(conv_4)\n",
    "    drop_2 = Dropout(0.25)(pool_2)\n",
    "    \n",
    "    conv_5 = Convolution2D(128, (3, 3), padding='same', activation=act)(drop_2)\n",
    "    conv_6 = Convolution2D(128, (3, 3), padding='same', activation=act)(conv_5)\n",
    "\n",
    "    pool_3 = MaxPooling2D((2, 2), data_format=\"channels_last\")(conv_6)\n",
    "    drop_3 = Dropout(0.25)(pool_3)\n",
    "    \n",
    "    \n",
    "\n",
    "    flat = Flatten()(drop_3)\n",
    "    hidden = Dense(256, activation='relu')(flat)\n",
    "    drop_4 = Dropout(0.5)(hidden)\n",
    "    out = Dense(number_signs, activation='softmax')(drop_4)\n",
    "\n",
    "    model = Model(inputs=inp, outputs=out)\n",
    "\n",
    "    model.compile(loss='categorical_crossentropy', optimizer='adam', metrics=['accuracy'])\n",
    "    \n",
    "    model.summary()\n",
    "    \n",
    "    \n",
    "    return model"
   ]
  },
  {
   "cell_type": "code",
   "execution_count": 5,
   "metadata": {
    "scrolled": false
   },
   "outputs": [
    {
     "name": "stderr",
     "output_type": "stream",
     "text": [
      "/Users/alexandrosstergiou/anaconda/lib/python2.7/site-packages/keras/activations.py:89: UserWarning: Do not pass a layer instance (such as LeakyReLU) as the activation argument of another layer. Instead, advanced activation layers should be used just like any other layer in a model.\n",
      "  ).format(identifier=identifier.__class__.__name__))\n"
     ]
    },
    {
     "name": "stdout",
     "output_type": "stream",
     "text": [
      "_________________________________________________________________\n",
      "Layer (type)                 Output Shape              Param #   \n",
      "=================================================================\n",
      "input_1 (InputLayer)         (None, 48, 48, 3)         0         \n",
      "_________________________________________________________________\n",
      "conv2d_1 (Conv2D)            (None, 48, 48, 32)        896       \n",
      "_________________________________________________________________\n",
      "conv2d_2 (Conv2D)            (None, 48, 48, 32)        9248      \n",
      "_________________________________________________________________\n",
      "max_pooling2d_1 (MaxPooling2 (None, 24, 24, 32)        0         \n",
      "_________________________________________________________________\n",
      "dropout_1 (Dropout)          (None, 24, 24, 32)        0         \n",
      "_________________________________________________________________\n",
      "conv2d_3 (Conv2D)            (None, 24, 24, 64)        18496     \n",
      "_________________________________________________________________\n",
      "conv2d_4 (Conv2D)            (None, 24, 24, 64)        36928     \n",
      "_________________________________________________________________\n",
      "max_pooling2d_2 (MaxPooling2 (None, 12, 12, 64)        0         \n",
      "_________________________________________________________________\n",
      "dropout_2 (Dropout)          (None, 12, 12, 64)        0         \n",
      "_________________________________________________________________\n",
      "conv2d_5 (Conv2D)            (None, 12, 12, 128)       73856     \n",
      "_________________________________________________________________\n",
      "conv2d_6 (Conv2D)            (None, 12, 12, 128)       147584    \n",
      "_________________________________________________________________\n",
      "max_pooling2d_3 (MaxPooling2 (None, 6, 6, 128)         0         \n",
      "_________________________________________________________________\n",
      "dropout_3 (Dropout)          (None, 6, 6, 128)         0         \n",
      "_________________________________________________________________\n",
      "flatten_1 (Flatten)          (None, 4608)              0         \n",
      "_________________________________________________________________\n",
      "dense_1 (Dense)              (None, 256)               1179904   \n",
      "_________________________________________________________________\n",
      "dropout_4 (Dropout)          (None, 256)               0         \n",
      "_________________________________________________________________\n",
      "dense_2 (Dense)              (None, 43)                11051     \n",
      "=================================================================\n",
      "Total params: 1,477,963\n",
      "Trainable params: 1,477,963\n",
      "Non-trainable params: 0\n",
      "_________________________________________________________________\n"
     ]
    }
   ],
   "source": [
    "model = cnn_model(48,48,3,number_signs)"
   ]
  },
  {
   "cell_type": "code",
   "execution_count": 6,
   "metadata": {
    "scrolled": true
   },
   "outputs": [
    {
     "name": "stdout",
     "output_type": "stream",
     "text": [
      "Train on 35288 samples, validate on 3921 samples\n",
      "Epoch 1/30\n",
      "35288/35288 [==============================] - 482s - loss: 1.3802 - acc: 0.5993 - val_loss: 0.1835 - val_acc: 0.9444\n",
      "Epoch 2/30\n",
      "35288/35288 [==============================] - 480s - loss: 0.2421 - acc: 0.9260 - val_loss: 0.0488 - val_acc: 0.9865\n",
      "Epoch 3/30\n",
      "35288/35288 [==============================] - 481s - loss: 0.1361 - acc: 0.9590 - val_loss: 0.0466 - val_acc: 0.9850\n",
      "Epoch 4/30\n",
      "35288/35288 [==============================] - 481s - loss: 0.1058 - acc: 0.9681 - val_loss: 0.0317 - val_acc: 0.9908\n",
      "Epoch 5/30\n",
      "35288/35288 [==============================] - 482s - loss: 0.0870 - acc: 0.9745 - val_loss: 0.0173 - val_acc: 0.9959\n",
      "Epoch 6/30\n",
      "35288/35288 [==============================] - 481s - loss: 0.0733 - acc: 0.9778 - val_loss: 0.0282 - val_acc: 0.9916\n",
      "Epoch 7/30\n",
      "35288/35288 [==============================] - 481s - loss: 0.0796 - acc: 0.9768 - val_loss: 0.0200 - val_acc: 0.9944\n",
      "Epoch 8/30\n",
      "35288/35288 [==============================] - 482s - loss: 0.0611 - acc: 0.9835 - val_loss: 0.0221 - val_acc: 0.9929\n",
      "Epoch 9/30\n",
      "35288/35288 [==============================] - 482s - loss: 0.0606 - acc: 0.9821 - val_loss: 0.0167 - val_acc: 0.9957\n",
      "Epoch 10/30\n",
      "35288/35288 [==============================] - 482s - loss: 0.0597 - acc: 0.9831 - val_loss: 0.0138 - val_acc: 0.9952\n",
      "Epoch 11/30\n",
      "35288/35288 [==============================] - 482s - loss: 0.0560 - acc: 0.9839 - val_loss: 0.0278 - val_acc: 0.9936\n",
      "Epoch 12/30\n",
      "35288/35288 [==============================] - 482s - loss: 0.0570 - acc: 0.9838 - val_loss: 0.0125 - val_acc: 0.9962\n",
      "Epoch 13/30\n",
      "35288/35288 [==============================] - 482s - loss: 0.0545 - acc: 0.9848 - val_loss: 0.0150 - val_acc: 0.9962\n",
      "Epoch 14/30\n",
      "35288/35288 [==============================] - 482s - loss: 0.0531 - acc: 0.9852 - val_loss: 0.0230 - val_acc: 0.9954\n",
      "Epoch 15/30\n",
      "35288/35288 [==============================] - 481s - loss: 0.0530 - acc: 0.9859 - val_loss: 0.0189 - val_acc: 0.9957\n",
      "Epoch 16/30\n",
      "35288/35288 [==============================] - 482s - loss: 0.0505 - acc: 0.9863 - val_loss: 0.0101 - val_acc: 0.9969\n",
      "Epoch 17/30\n",
      "35288/35288 [==============================] - 482s - loss: 0.0465 - acc: 0.9878 - val_loss: 0.0174 - val_acc: 0.9957\n",
      "Epoch 18/30\n",
      "35288/35288 [==============================] - 482s - loss: 0.0563 - acc: 0.9856 - val_loss: 0.0181 - val_acc: 0.9941\n",
      "Epoch 19/30\n",
      "35288/35288 [==============================] - 482s - loss: 0.0569 - acc: 0.9855 - val_loss: 0.0120 - val_acc: 0.9964\n",
      "Epoch 20/30\n",
      "35288/35288 [==============================] - 482s - loss: 0.0464 - acc: 0.9884 - val_loss: 0.0141 - val_acc: 0.9967\n",
      "Epoch 21/30\n",
      "35288/35288 [==============================] - 482s - loss: 0.0625 - acc: 0.9851 - val_loss: 0.0152 - val_acc: 0.9974\n",
      "Epoch 22/30\n",
      "35288/35288 [==============================] - 483s - loss: 0.0536 - acc: 0.9869 - val_loss: 0.0100 - val_acc: 0.9977\n",
      "Epoch 23/30\n",
      "35288/35288 [==============================] - 483s - loss: 0.0510 - acc: 0.9876 - val_loss: 0.0283 - val_acc: 0.9952\n",
      "Epoch 24/30\n",
      "35288/35288 [==============================] - 482s - loss: 0.0487 - acc: 0.9889 - val_loss: 0.0137 - val_acc: 0.9972\n",
      "Epoch 25/30\n",
      "35288/35288 [==============================] - 482s - loss: 0.0557 - acc: 0.9861 - val_loss: 0.0111 - val_acc: 0.9972\n",
      "Epoch 26/30\n",
      "35288/35288 [==============================] - 482s - loss: 0.0516 - acc: 0.9879 - val_loss: 0.0112 - val_acc: 0.9972\n",
      "Epoch 27/30\n",
      "35288/35288 [==============================] - 483s - loss: 0.0551 - acc: 0.9880 - val_loss: 0.0383 - val_acc: 0.9934\n",
      "Epoch 28/30\n",
      "35288/35288 [==============================] - 482s - loss: 0.0673 - acc: 0.9853 - val_loss: 0.0089 - val_acc: 0.9969\n",
      "Epoch 29/30\n",
      "35288/35288 [==============================] - 482s - loss: 0.0622 - acc: 0.9873 - val_loss: 0.0116 - val_acc: 0.9980\n",
      "Epoch 30/30\n",
      "35288/35288 [==============================] - 483s - loss: 0.0525 - acc: 0.9877 - val_loss: 0.0335 - val_acc: 0.9883\n",
      "('Test score:', 0.033494419405231263)\n",
      "('Test accuracy:', 0.9882682989185424)\n"
     ]
    }
   ],
   "source": [
    "batch_size = 32\n",
    "nb_epochs = 30\n",
    "\n",
    "\n",
    "X = np.array(elements, dtype='float32')\n",
    "Y = np.eye(number_signs, dtype='uint8')[classes]\n",
    "\n",
    "X_train, X_val, Y_train, Y_val = train_test_split(X, Y,test_size=0.1, random_state=42)\n",
    "\n",
    "history = model.fit(X_train, Y_train,batch_size=batch_size,epochs=nb_epochs, validation_data=(X_val,Y_val))\n",
    "\n",
    "score = model.evaluate(X_val, Y_val, verbose=0)\n",
    "\n",
    "print('Test score:', score[0])\n",
    "print('Test accuracy:', score[1])"
   ]
  },
  {
   "cell_type": "code",
   "execution_count": 7,
   "metadata": {},
   "outputs": [
    {
     "data": {
      "image/png": "[encoded data removed]",
      "text/plain": [
       "<matplotlib.figure.Figure at 0x12223f610>"
      ]
     },
     "metadata": {},
     "output_type": "display_data"
    },
    {
     "data": {
      "image/png": "[encoded data removed]",
      "text/plain": [
       "<matplotlib.figure.Figure at 0x1a46faf50>"
      ]
     },
     "metadata": {},
     "output_type": "display_data"
    }
   ],
   "source": [
    "# summarize history for accuracy\n",
    "plt.plot(history.history['acc'])\n",
    "plt.plot(history.history['val_acc'])\n",
    "plt.title('model accuracy')\n",
    "plt.ylabel('accuracy')\n",
    "plt.xlabel('epoch')\n",
    "plt.legend(['train', 'test'], loc='upper left')\n",
    "plt.show()\n",
    "plt.savefig('CNN_1-accuracy.png')\n",
    "# summarize history for loss\n",
    "plt.plot(history.history['loss'])\n",
    "plt.plot(history.history['val_loss'])\n",
    "plt.title('model loss')\n",
    "plt.ylabel('loss')\n",
    "plt.xlabel('epoch')\n",
    "plt.legend(['train', 'test'], loc='upper left')\n",
    "plt.show()\n",
    "plt.savefig('CNN_1-loss.png')"
   ]
  },
  {
   "cell_type": "code",
   "execution_count": 14,
   "metadata": {
    "collapsed": true
   },
   "outputs": [],
   "source": [
    "import sys\n",
    "orig_stdout = sys.stdout\n",
    "f = open('Model_Summary.txt', 'w')\n",
    "sys.stdout = f\n",
    "print(model.summary())\n",
    "sys.stdout = orig_stdout\n",
    "f.close()"
   ]
  },
  {
   "cell_type": "code",
   "execution_count": 19,
   "metadata": {
    "collapsed": true
   },
   "outputs": [],
   "source": [
    "orig_stdout = sys.stdout\n",
    "f = open('History.txt', 'w')\n",
    "sys.stdout = f\n",
    "print(history.history)\n",
    "print('Test score:', score[0])\n",
    "print('Test accuracy:', score[1])\n",
    "sys.stdout = orig_stdout\n",
    "f.close()"
   ]
  },
  {
   "cell_type": "code",
   "execution_count": null,
   "metadata": {
    "collapsed": true
   },
   "outputs": [],
   "source": []
  }
 ],
 "metadata": {
  "kernelspec": {
   "display_name": "Python 2",
   "language": "python",
   "name": "python2"
  },
  "language_info": {
   "codemirror_mode": {
    "name": "ipython",
    "version": 2
   },
   "file_extension": ".py",
   "mimetype": "text/x-python",
   "name": "python",
   "nbconvert_exporter": "python",
   "pygments_lexer": "ipython2",
   "version": "2.7.13"
  }
 },
 "nbformat": 4,
 "nbformat_minor": 2
}
