{
 "cells": [
  {
   "cell_type": "code",
   "execution_count": 1,
   "metadata": {
    "slideshow": {
     "slide_type": "-"
    }
   },
   "outputs": [
    {
     "name": "stderr",
     "output_type": "stream",
     "text": [
      "Using TensorFlow backend.\n",
      "/Users/alexandrosstergiou/anaconda/lib/python2.7/site-packages/sklearn/cross_validation.py:44: DeprecationWarning: This module was deprecated in version 0.18 in favor of the model_selection module into which all the refactored classes and functions are moved. Also note that the interface of the new CV iterators are different from that of this module. This module will be removed in 0.20.\n",
      "  \"This module will be removed in 0.20.\", DeprecationWarning)\n"
     ]
    }
   ],
   "source": [
    "import numpy as np\n",
    "import os\n",
    "import pandas as pd\n",
    "from skimage import io\n",
    "from skimage import color, exposure, transform\n",
    "from PIL import Image \n",
    "import cv2\n",
    "import matplotlib\n",
    "import matplotlib.pyplot as plt\n",
    "import sys\n",
    "from shutil import copyfile\n",
    "from keras.callbacks import EarlyStopping\n",
    "from skimage import data, img_as_float\n",
    "from skimage import exposure\n",
    "\n",
    "import keras\n",
    "import tensorflow as tf\n",
    "from keras.models import Sequential, Model\n",
    "from keras.layers import Conv2D \n",
    "from keras.layers import Input, MaxPooling2D, Dense, Dropout, Activation, Flatten, ZeroPadding2D\n",
    "from keras.callbacks import LearningRateScheduler, ModelCheckpoint\n",
    "from keras.layers.advanced_activations import LeakyReLU, ELU\n",
    "from keras.utils import np_utils \n",
    "from keras.layers.normalization import BatchNormalization\n",
    "from keras.preprocessing.image import ImageDataGenerator\n",
    "from sklearn.cross_validation import train_test_split\n",
    "\n",
    "from tensorflow.contrib import learn\n",
    "from tensorflow.contrib.learn.python.learn.estimators import model_fn as model_fn_lib"
   ]
  },
  {
   "cell_type": "code",
   "execution_count": 2,
   "metadata": {
    "collapsed": true,
    "scrolled": true
   },
   "outputs": [],
   "source": [
    "def analyse_images(imgs_paths):\n",
    "    \n",
    "    data = []\n",
    "    i = 0\n",
    "    for img_path in imgs_paths:\n",
    "        img_class = int(img_path.split('/')[-2])\n",
    "        \n",
    "        \n",
    "        \n",
    "        \n",
    "        img = io.imread(img_path)\n",
    "        \n",
    "\n",
    "        # Histogram\n",
    "        img_h = exposure.equalize_hist(img)\n",
    "        \n",
    "        data.append([img_h,img_class])\n",
    "        \n",
    "        i = i+1\n",
    "        \n",
    "        #Print every 10000 images\n",
    "        if ((i % 10000)== 0):\n",
    "            print (\"Images processed: \")+str(i)\n",
    "        \n",
    "    return data\n",
    "\n",
    "\n"
   ]
  },
  {
   "cell_type": "code",
   "execution_count": 3,
   "metadata": {
    "scrolled": false
   },
   "outputs": [
    {
     "name": "stderr",
     "output_type": "stream",
     "text": [
      "/Users/alexandrosstergiou/anaconda/lib/python2.7/site-packages/skimage/exposure/exposure.py:63: UserWarning: This might be a color image. The histogram will be computed on the flattened image. You can instead apply this function to each color channel.\n",
      "  warn(\"This might be a color image. The histogram will be \"\n"
     ]
    },
    {
     "name": "stdout",
     "output_type": "stream",
     "text": [
      "Images processed: 10000\n",
      "Images processed: 20000\n",
      "Images processed: 30000\n",
      "Images processed: 40000\n",
      "Images processed: 50000\n"
     ]
    }
   ],
   "source": [
    "directory = 'CNN_scores_and_dataset/used_images/'\n",
    "paths = []\n",
    "number_signs = 0\n",
    "\n",
    "if (not os.path.exists(\"used_images\")):\n",
    "    os.makedirs('used_images')\n",
    "\n",
    "for sub_dir in os.listdir(directory):\n",
    "    sd = directory+sub_dir+'/'\n",
    "    if (sub_dir != \".DS_Store\"):\n",
    "        number_signs = number_signs+1\n",
    "        images_paths = os.listdir(sd)\n",
    "        np.random.shuffle(images_paths)\n",
    "        for files in images_paths[:]:\n",
    "            if (files.endswith(\".jpg\")==True):\n",
    "                paths.append(directory+sub_dir+'/'+files)\n",
    "                if (not os.path.exists(\"used_images/\"+sub_dir)):\n",
    "                    os.mkdir(\"used_images/\"+sub_dir)\n",
    "                copyfile(directory+sub_dir+'/'+files, 'used_images/'+sub_dir+'/'+files)\n",
    "\n",
    "\n",
    "\n",
    "                \n",
    "orig_stdout = sys.stdout\n",
    "f = open('Images_used.txt', 'w')\n",
    "sys.stdout = f\n",
    "for img_used in paths:\n",
    "    print(img_used)\n",
    "    print\"\"\n",
    "sys.stdout = orig_stdout\n",
    "f.close()\n",
    "\n",
    "np.random.shuffle(paths)\n",
    "data = analyse_images(paths)\n",
    "elements = []\n",
    "classes = []\n",
    "for d in data:\n",
    "    elements.append(d[0])\n",
    "    classes.append(d[1])\n",
    "\n",
    "    \n",
    "direct = 'val_set_blurred/'\n",
    "val_paths = []\n",
    "for sub_dir in os.listdir(direct):\n",
    "    sd = direct+sub_dir+'/'\n",
    "    if (sub_dir != \".DS_Store\"):\n",
    "        for files in os.listdir(sd):\n",
    "            if (files.endswith(\".csv\")==False) and (files.endswith(\".DS_Store\")==False):\n",
    "                val_paths.append(direct+sub_dir+'/'+files)\n",
    "                \n",
    "np.random.shuffle(val_paths)\n",
    "val_data = analyse_images(val_paths)\n",
    "val_elements = []\n",
    "val_classes = []\n",
    "for vd in val_data:\n",
    "    val_elements.append(vd[0])\n",
    "    val_classes.append(vd[1])"
   ]
  },
  {
   "cell_type": "code",
   "execution_count": 4,
   "metadata": {
    "collapsed": true
   },
   "outputs": [],
   "source": [
    "def cnn_model(height,width,depth,number_signs):\n",
    "    \"\"\"\n",
    "    model = Sequential()\n",
    "    \n",
    "    model.add(Conv2D(32, (3, 3), activation= 'relu',input_shape=(height, width, depth)))\n",
    "    model.add(Conv2D(32, (3, 3), activation='relu'))\n",
    "    model.add(MaxPooling2D((2,2), data_format=\"channels_last\"))\n",
    "    model.add(Dropout(0.25))\n",
    "    \n",
    "    \n",
    "    model.add(Conv2D(64, (3, 3), activation='relu'))\n",
    "    model.add(Conv2D(64, (3, 3), activation='relu'))\n",
    "    model.add(MaxPooling2D((2,2), data_format=\"channels_last\"))\n",
    "    model.add(Dropout(0.25))\n",
    "\n",
    "    model.add(Conv2D(128, (3, 3), activation='relu'))\n",
    "    model.add(Conv2D(128, (3, 3), activation='relu'))\n",
    "    model.add(MaxPooling2D((2,2), data_format=\"channels_last\"))\n",
    "    model.add(Dropout(0.25)) \n",
    "    \n",
    "              \n",
    "    model.add(Flatten())\n",
    "    model.add(Dense(1024, activation='relu'))\n",
    "    model.add(Dropout(0.5))\n",
    "    model.add(Dense(number_signs, activation='softmax'))\n",
    "              \n",
    "    model.compile(loss='categorical_crossentropy', optimizer='adam', metrics=['accuracy'])\n",
    "              \n",
    "    model.summary()\n",
    "    \n",
    "    \n",
    "    return model\n",
    "              \n",
    "    \n",
    "    \n",
    "    \"\"\"\n",
    "    inp = Input(shape=(height, width, depth))\n",
    "    #act = keras.layers.advanced_activations.ELU(alpha=0.001)\n",
    "    #act= keras.layers.advanced_activations.LeakyReLU(alpha=0.001)\n",
    "    conv_1 = Conv2D(32, (3, 3), padding='same')(inp)\n",
    "    norm_1 = BatchNormalization()(conv_1)\n",
    "    act1 = LeakyReLU(alpha=0.001)(norm_1)\n",
    "    conv_2 = Conv2D(32, (3, 3), padding='same')(act1)\n",
    "    norm_2 = BatchNormalization()(conv_2)\n",
    "    act2 = LeakyReLU(alpha=0.001)(norm_2)\n",
    "    \n",
    "    pool_1 = MaxPooling2D((2, 2), data_format=\"channels_last\")(act2)\n",
    "    drop_1 = Dropout(0.2)(pool_1)\n",
    "\n",
    "    \n",
    "    conv_3 = Conv2D(64, (3, 3), padding='same')(drop_1)\n",
    "    norm_3 = BatchNormalization()(conv_3)\n",
    "    act3 = LeakyReLU(alpha=0.001)(norm_3)\n",
    "    conv_4 = Conv2D(64, (3, 3), padding='same')(act3)\n",
    "    norm_4 = BatchNormalization()(conv_4)\n",
    "    act4 = LeakyReLU(alpha=0.001)(norm_4)\n",
    "\n",
    "    pool_2 = MaxPooling2D((2, 2), data_format=\"channels_last\")(act4)\n",
    "    drop_2 = Dropout(0.2)(pool_2)\n",
    "    \n",
    "    conv_5 = Conv2D(128, (3, 3), padding='same')(drop_2)\n",
    "    norm_5 = BatchNormalization()(conv_5)\n",
    "    act5 = LeakyReLU(alpha=0.001)(norm_5)\n",
    "    conv_6 = Conv2D(128, (3, 3), padding='same')(act5)\n",
    "    norm_6 = BatchNormalization()(conv_6)\n",
    "    act6 = LeakyReLU(alpha=0.001)(norm_6)\n",
    "\n",
    "    pool_3 = MaxPooling2D((2, 2), data_format=\"channels_last\")(act6)\n",
    "    drop_3 = Dropout(0.2)(pool_3)\n",
    "    \n",
    "    \n",
    "    flat = Flatten()(drop_3)\n",
    "    hidden = Dense(512)(flat)\n",
    "    norm_7 = BatchNormalization()(hidden)\n",
    "    act7 = LeakyReLU(alpha=0.001)(norm_7)\n",
    "    drop_4 = Dropout(0.5)(act7)\n",
    "    out = Dense(number_signs, activation='softmax')(drop_4)\n",
    "\n",
    "    model = Model(inputs=inp, outputs=out)\n",
    "\n",
    "    model.compile(loss='categorical_crossentropy', optimizer='adam', metrics=['accuracy'])\n",
    "    \n",
    "    model.summary()\n",
    "    \n",
    "    \n",
    "    return model\n",
    "    "
   ]
  },
  {
   "cell_type": "code",
   "execution_count": 5,
   "metadata": {
    "scrolled": false
   },
   "outputs": [
    {
     "name": "stdout",
     "output_type": "stream",
     "text": [
      "_________________________________________________________________\n",
      "Layer (type)                 Output Shape              Param #   \n",
      "=================================================================\n",
      "input_1 (InputLayer)         (None, 48, 48, 3)         0         \n",
      "_________________________________________________________________\n",
      "conv2d_1 (Conv2D)            (None, 48, 48, 32)        896       \n",
      "_________________________________________________________________\n",
      "batch_normalization_1 (Batch (None, 48, 48, 32)        128       \n",
      "_________________________________________________________________\n",
      "leaky_re_lu_1 (LeakyReLU)    (None, 48, 48, 32)        0         \n",
      "_________________________________________________________________\n",
      "conv2d_2 (Conv2D)            (None, 48, 48, 32)        9248      \n",
      "_________________________________________________________________\n",
      "batch_normalization_2 (Batch (None, 48, 48, 32)        128       \n",
      "_________________________________________________________________\n",
      "leaky_re_lu_2 (LeakyReLU)    (None, 48, 48, 32)        0         \n",
      "_________________________________________________________________\n",
      "max_pooling2d_1 (MaxPooling2 (None, 24, 24, 32)        0         \n",
      "_________________________________________________________________\n",
      "dropout_1 (Dropout)          (None, 24, 24, 32)        0         \n",
      "_________________________________________________________________\n",
      "conv2d_3 (Conv2D)            (None, 24, 24, 64)        18496     \n",
      "_________________________________________________________________\n",
      "batch_normalization_3 (Batch (None, 24, 24, 64)        256       \n",
      "_________________________________________________________________\n",
      "leaky_re_lu_3 (LeakyReLU)    (None, 24, 24, 64)        0         \n",
      "_________________________________________________________________\n",
      "conv2d_4 (Conv2D)            (None, 24, 24, 64)        36928     \n",
      "_________________________________________________________________\n",
      "batch_normalization_4 (Batch (None, 24, 24, 64)        256       \n",
      "_________________________________________________________________\n",
      "leaky_re_lu_4 (LeakyReLU)    (None, 24, 24, 64)        0         \n",
      "_________________________________________________________________\n",
      "max_pooling2d_2 (MaxPooling2 (None, 12, 12, 64)        0         \n",
      "_________________________________________________________________\n",
      "dropout_2 (Dropout)          (None, 12, 12, 64)        0         \n",
      "_________________________________________________________________\n",
      "conv2d_5 (Conv2D)            (None, 12, 12, 128)       73856     \n",
      "_________________________________________________________________\n",
      "batch_normalization_5 (Batch (None, 12, 12, 128)       512       \n",
      "_________________________________________________________________\n",
      "leaky_re_lu_5 (LeakyReLU)    (None, 12, 12, 128)       0         \n",
      "_________________________________________________________________\n",
      "conv2d_6 (Conv2D)            (None, 12, 12, 128)       147584    \n",
      "_________________________________________________________________\n",
      "batch_normalization_6 (Batch (None, 12, 12, 128)       512       \n",
      "_________________________________________________________________\n",
      "leaky_re_lu_6 (LeakyReLU)    (None, 12, 12, 128)       0         \n",
      "_________________________________________________________________\n",
      "max_pooling2d_3 (MaxPooling2 (None, 6, 6, 128)         0         \n",
      "_________________________________________________________________\n",
      "dropout_3 (Dropout)          (None, 6, 6, 128)         0         \n",
      "_________________________________________________________________\n",
      "flatten_1 (Flatten)          (None, 4608)              0         \n",
      "_________________________________________________________________\n",
      "dense_1 (Dense)              (None, 512)               2359808   \n",
      "_________________________________________________________________\n",
      "batch_normalization_7 (Batch (None, 512)               2048      \n",
      "_________________________________________________________________\n",
      "leaky_re_lu_7 (LeakyReLU)    (None, 512)               0         \n",
      "_________________________________________________________________\n",
      "dropout_4 (Dropout)          (None, 512)               0         \n",
      "_________________________________________________________________\n",
      "dense_2 (Dense)              (None, 50)                25650     \n",
      "=================================================================\n",
      "Total params: 2,676,306\n",
      "Trainable params: 2,674,386\n",
      "Non-trainable params: 1,920\n",
      "_________________________________________________________________\n"
     ]
    }
   ],
   "source": [
    "model = cnn_model(48,48,3,number_signs)"
   ]
  },
  {
   "cell_type": "code",
   "execution_count": 7,
   "metadata": {
    "scrolled": true
   },
   "outputs": [
    {
     "name": "stdout",
     "output_type": "stream",
     "text": [
      "Train on 56800 samples, validate on 2500 samples\n",
      "Epoch 1/50\n",
      "56768/56800 [============================>.] - ETA: 0s - loss: 0.1569 - acc: 0.9602Epoch 00000: val_acc improved from -inf to 0.74960, saving model to weights.best.hdf5\n",
      "56800/56800 [==============================] - 1159s - loss: 0.1568 - acc: 0.9602 - val_loss: 1.0248 - val_acc: 0.7496\n",
      "Epoch 2/50\n",
      "56768/56800 [============================>.] - ETA: 0s - loss: 0.0113 - acc: 0.9972Epoch 00001: val_acc did not improve\n",
      "56800/56800 [==============================] - 1170s - loss: 0.0113 - acc: 0.9972 - val_loss: 1.2908 - val_acc: 0.7264\n",
      "Epoch 3/50\n",
      "56768/56800 [============================>.] - ETA: 0s - loss: 0.0088 - acc: 0.9977Epoch 00002: val_acc improved from 0.74960 to 0.78840, saving model to weights.best.hdf5\n",
      "56800/56800 [==============================] - 1167s - loss: 0.0088 - acc: 0.9977 - val_loss: 1.0395 - val_acc: 0.7884\n",
      "Epoch 4/50\n",
      "56768/56800 [============================>.] - ETA: 0s - loss: 0.0098 - acc: 0.9972Epoch 00003: val_acc improved from 0.78840 to 0.80800, saving model to weights.best.hdf5\n",
      "56800/56800 [==============================] - 1167s - loss: 0.0098 - acc: 0.9972 - val_loss: 0.9964 - val_acc: 0.8080\n",
      "Epoch 5/50\n",
      "56768/56800 [============================>.] - ETA: 0s - loss: 0.0055 - acc: 0.9986Epoch 00004: val_acc did not improve\n",
      "56800/56800 [==============================] - 1166s - loss: 0.0055 - acc: 0.9986 - val_loss: 1.1546 - val_acc: 0.7872\n",
      "Epoch 6/50\n",
      "56768/56800 [============================>.] - ETA: 0s - loss: 0.0035 - acc: 0.9989Epoch 00005: val_acc improved from 0.80800 to 0.82240, saving model to weights.best.hdf5\n",
      "56800/56800 [==============================] - 1168s - loss: 0.0035 - acc: 0.9989 - val_loss: 0.9926 - val_acc: 0.8224\n",
      "Epoch 7/50\n",
      "56768/56800 [============================>.] - ETA: 0s - loss: 0.0041 - acc: 0.9988Epoch 00006: val_acc did not improve\n",
      "56800/56800 [==============================] - 1169s - loss: 0.0041 - acc: 0.9988 - val_loss: 1.0742 - val_acc: 0.8200\n",
      "Epoch 8/50\n",
      "56768/56800 [============================>.] - ETA: 0s - loss: 0.0035 - acc: 0.9990Epoch 00007: val_acc did not improve\n",
      "56800/56800 [==============================] - 1167s - loss: 0.0035 - acc: 0.9990 - val_loss: 1.6324 - val_acc: 0.7360\n",
      "Epoch 9/50\n",
      "56768/56800 [============================>.] - ETA: 0s - loss: 0.0024 - acc: 0.9993Epoch 00008: val_acc did not improve\n",
      "56800/56800 [==============================] - 1166s - loss: 0.0024 - acc: 0.9993 - val_loss: 1.8916 - val_acc: 0.7044\n",
      "Epoch 10/50\n",
      "56768/56800 [============================>.] - ETA: 0s - loss: 0.0038 - acc: 0.9990Epoch 00009: val_acc improved from 0.82240 to 0.82320, saving model to weights.best.hdf5\n",
      "56800/56800 [==============================] - 1168s - loss: 0.0038 - acc: 0.9990 - val_loss: 1.1436 - val_acc: 0.8232\n",
      "Epoch 11/50\n",
      "56768/56800 [============================>.] - ETA: 0s - loss: 5.0190e-04 - acc: 0.9999Epoch 00010: val_acc improved from 0.82320 to 0.82720, saving model to weights.best.hdf5\n",
      "56800/56800 [==============================] - 1167s - loss: 5.0162e-04 - acc: 0.9999 - val_loss: 1.1671 - val_acc: 0.8272\n",
      "Epoch 12/50\n",
      "56768/56800 [============================>.] - ETA: 0s - loss: 0.0027 - acc: 0.9991Epoch 00011: val_acc improved from 0.82720 to 0.84280, saving model to weights.best.hdf5\n",
      "56800/56800 [==============================] - 1186s - loss: 0.0027 - acc: 0.9991 - val_loss: 1.0333 - val_acc: 0.8428\n",
      "Epoch 13/50\n",
      "56768/56800 [============================>.] - ETA: 0s - loss: 0.0027 - acc: 0.9993Epoch 00012: val_acc did not improve\n",
      "56800/56800 [==============================] - 1201s - loss: 0.0027 - acc: 0.9993 - val_loss: 1.3200 - val_acc: 0.8004\n",
      "Epoch 14/50\n",
      "56768/56800 [============================>.] - ETA: 0s - loss: 3.7094e-04 - acc: 0.9999Epoch 00013: val_acc did not improve\n",
      "56800/56800 [==============================] - 1165s - loss: 3.7073e-04 - acc: 0.9999 - val_loss: 1.2690 - val_acc: 0.8248\n",
      "Epoch 15/50\n",
      "56768/56800 [============================>.] - ETA: 0s - loss: 0.0024 - acc: 0.9992Epoch 00014: val_acc did not improve\n",
      "56800/56800 [==============================] - 1168s - loss: 0.0024 - acc: 0.9992 - val_loss: 1.5043 - val_acc: 0.7900\n",
      "Epoch 16/50\n",
      "56768/56800 [============================>.] - ETA: 0s - loss: 0.0015 - acc: 0.9996Epoch 00015: val_acc did not improve\n",
      "56800/56800 [==============================] - 1167s - loss: 0.0015 - acc: 0.9996 - val_loss: 1.2758 - val_acc: 0.8276\n",
      "Epoch 17/50\n",
      "56768/56800 [============================>.] - ETA: 0s - loss: 7.7604e-04 - acc: 0.9998Epoch 00016: val_acc did not improve\n",
      "56800/56800 [==============================] - 1166s - loss: 7.7560e-04 - acc: 0.9998 - val_loss: 1.2352 - val_acc: 0.8332\n",
      "Epoch 18/50\n",
      "56768/56800 [============================>.] - ETA: 0s - loss: 0.0014 - acc: 0.9996Epoch 00017: val_acc improved from 0.84280 to 0.85560, saving model to weights.best.hdf5\n",
      "56800/56800 [==============================] - 1169s - loss: 0.0014 - acc: 0.9996 - val_loss: 1.0551 - val_acc: 0.8556\n",
      "Epoch 19/50\n",
      "56768/56800 [============================>.] - ETA: 0s - loss: 0.0027 - acc: 0.9993Epoch 00018: val_acc did not improve\n",
      "56800/56800 [==============================] - 1167s - loss: 0.0027 - acc: 0.9993 - val_loss: 1.3336 - val_acc: 0.8088\n",
      "Epoch 20/50\n",
      "56768/56800 [============================>.] - ETA: 0s - loss: 2.4051e-04 - acc: 1.0000Epoch 00019: val_acc improved from 0.85560 to 0.86600, saving model to weights.best.hdf5\n",
      "56800/56800 [==============================] - 1164s - loss: 2.4062e-04 - acc: 1.0000 - val_loss: 0.9029 - val_acc: 0.8660\n",
      "Epoch 21/50\n",
      "56768/56800 [============================>.] - ETA: 0s - loss: 0.0024 - acc: 0.9993Epoch 00020: val_acc did not improve\n",
      "56800/56800 [==============================] - 1166s - loss: 0.0024 - acc: 0.9993 - val_loss: 1.1004 - val_acc: 0.8544\n",
      "Epoch 22/50\n",
      "56768/56800 [============================>.] - ETA: 0s - loss: 0.0013 - acc: 0.9997Epoch 00021: val_acc did not improve\n",
      "56800/56800 [==============================] - 1164s - loss: 0.0013 - acc: 0.9997 - val_loss: 1.6535 - val_acc: 0.7716\n",
      "Epoch 23/50\n",
      "56768/56800 [============================>.] - ETA: 0s - loss: 0.0012 - acc: 0.9997Epoch 00022: val_acc did not improve\n",
      "56800/56800 [==============================] - 1167s - loss: 0.0012 - acc: 0.9997 - val_loss: 1.4777 - val_acc: 0.8196\n",
      "Epoch 24/50\n",
      "56768/56800 [============================>.] - ETA: 0s - loss: 0.0010 - acc: 0.9998Epoch 00023: val_acc did not improve\n",
      "56800/56800 [==============================] - 1166s - loss: 0.0010 - acc: 0.9998 - val_loss: 1.1657 - val_acc: 0.8420\n",
      "Epoch 25/50\n",
      "56768/56800 [============================>.] - ETA: 0s - loss: 0.0011 - acc: 0.9997Epoch 00024: val_acc did not improve\n",
      "56800/56800 [==============================] - 1163s - loss: 0.0011 - acc: 0.9997 - val_loss: 1.6936 - val_acc: 0.7752\n",
      "Epoch 26/50\n",
      "56768/56800 [============================>.] - ETA: 0s - loss: 8.7150e-04 - acc: 0.9998Epoch 00025: val_acc did not improve\n",
      "56800/56800 [==============================] - 1164s - loss: 8.7104e-04 - acc: 0.9998 - val_loss: 1.2542 - val_acc: 0.8420\n",
      "Epoch 27/50\n",
      "56768/56800 [============================>.] - ETA: 0s - loss: 0.0012 - acc: 0.9996Epoch 00026: val_acc did not improve\n",
      "56800/56800 [==============================] - 1164s - loss: 0.0012 - acc: 0.9996 - val_loss: 1.3675 - val_acc: 0.8252\n",
      "Epoch 28/50\n",
      "56768/56800 [============================>.] - ETA: 0s - loss: 0.0015 - acc: 0.9997Epoch 00027: val_acc did not improve\n",
      "56800/56800 [==============================] - 1164s - loss: 0.0015 - acc: 0.9997 - val_loss: 1.2649 - val_acc: 0.8348\n",
      "Epoch 29/50\n",
      "56768/56800 [============================>.] - ETA: 0s - loss: 4.4478e-04 - acc: 0.9999Epoch 00028: val_acc did not improve\n",
      "56800/56800 [==============================] - 1163s - loss: 4.4460e-04 - acc: 0.9999 - val_loss: 1.4826 - val_acc: 0.8192\n",
      "Epoch 30/50\n",
      "56768/56800 [============================>.] - ETA: 0s - loss: 0.0012 - acc: 0.9997Epoch 00029: val_acc did not improve\n",
      "56800/56800 [==============================] - 1165s - loss: 0.0012 - acc: 0.9997 - val_loss: 1.4325 - val_acc: 0.8276\n",
      "Epoch 31/50\n",
      "56768/56800 [============================>.] - ETA: 0s - loss: 8.6796e-04 - acc: 0.9997Epoch 00030: val_acc did not improve\n"
     ]
    },
    {
     "name": "stdout",
     "output_type": "stream",
     "text": [
      "56800/56800 [==============================] - 1163s - loss: 8.6747e-04 - acc: 0.9997 - val_loss: 1.3224 - val_acc: 0.8284\n",
      "Epoch 32/50\n",
      "56768/56800 [============================>.] - ETA: 0s - loss: 0.0010 - acc: 0.9996Epoch 00031: val_acc did not improve\n",
      "56800/56800 [==============================] - 1153s - loss: 0.0010 - acc: 0.9996 - val_loss: 1.1444 - val_acc: 0.8640\n",
      "Epoch 33/50\n",
      "56768/56800 [============================>.] - ETA: 0s - loss: 0.0014 - acc: 0.9997Epoch 00032: val_acc did not improve\n",
      "56800/56800 [==============================] - 1155s - loss: 0.0014 - acc: 0.9997 - val_loss: 1.3660 - val_acc: 0.8328\n",
      "Epoch 34/50\n",
      "56768/56800 [============================>.] - ETA: 0s - loss: 8.9437e-04 - acc: 0.9997Epoch 00033: val_acc did not improve\n",
      "56800/56800 [==============================] - 1154s - loss: 8.9386e-04 - acc: 0.9997 - val_loss: 1.0723 - val_acc: 0.8608\n",
      "Epoch 35/50\n",
      "56768/56800 [============================>.] - ETA: 0s - loss: 5.5845e-04 - acc: 0.9998Epoch 00034: val_acc did not improve\n",
      "56800/56800 [==============================] - 1156s - loss: 5.5814e-04 - acc: 0.9998 - val_loss: 1.2295 - val_acc: 0.8488\n",
      "Epoch 36/50\n",
      "56768/56800 [============================>.] - ETA: 0s - loss: 9.8676e-04 - acc: 0.9998Epoch 00035: val_acc did not improve\n",
      "56800/56800 [==============================] - 1156s - loss: 9.8620e-04 - acc: 0.9998 - val_loss: 1.3242 - val_acc: 0.8376\n",
      "Epoch 37/50\n",
      "56768/56800 [============================>.] - ETA: 0s - loss: 3.6527e-04 - acc: 0.9999Epoch 00036: val_acc did not improve\n",
      "56800/56800 [==============================] - 1156s - loss: 3.6506e-04 - acc: 0.9999 - val_loss: 2.1121 - val_acc: 0.7260\n",
      "Epoch 38/50\n",
      "56768/56800 [============================>.] - ETA: 0s - loss: 8.7575e-04 - acc: 0.9998Epoch 00037: val_acc did not improve\n",
      "56800/56800 [==============================] - 1158s - loss: 8.7526e-04 - acc: 0.9998 - val_loss: 1.4216 - val_acc: 0.8304\n",
      "Epoch 39/50\n",
      "56768/56800 [============================>.] - ETA: 0s - loss: 9.8891e-04 - acc: 0.9998Epoch 00038: val_acc did not improve\n",
      "56800/56800 [==============================] - 1158s - loss: 9.8836e-04 - acc: 0.9998 - val_loss: 1.2843 - val_acc: 0.8404\n",
      "Epoch 40/50\n",
      "56768/56800 [============================>.] - ETA: 0s - loss: 0.0013 - acc: 0.9997Epoch 00039: val_acc did not improve\n",
      "56800/56800 [==============================] - 1158s - loss: 0.0013 - acc: 0.9997 - val_loss: 1.2957 - val_acc: 0.8532\n",
      "Epoch 41/50\n",
      "56768/56800 [============================>.] - ETA: 0s - loss: 0.0015 - acc: 0.9998Epoch 00040: val_acc did not improve\n",
      "56800/56800 [==============================] - 1167s - loss: 0.0015 - acc: 0.9998 - val_loss: 1.3487 - val_acc: 0.8492\n",
      "Epoch 42/50\n",
      "56768/56800 [============================>.] - ETA: 0s - loss: 2.2587e-04 - acc: 0.9999Epoch 00041: val_acc did not improve\n",
      "56800/56800 [==============================] - 1157s - loss: 2.2575e-04 - acc: 0.9999 - val_loss: 1.4583 - val_acc: 0.8384\n",
      "Epoch 43/50\n",
      "56768/56800 [============================>.] - ETA: 0s - loss: 3.6263e-04 - acc: 0.9999Epoch 00042: val_acc did not improve\n",
      "56800/56800 [==============================] - 1164s - loss: 3.6280e-04 - acc: 0.9999 - val_loss: 2.2310 - val_acc: 0.7480\n",
      "Epoch 44/50\n",
      "56768/56800 [============================>.] - ETA: 0s - loss: 0.0013 - acc: 0.9996Epoch 00043: val_acc did not improve\n",
      "56800/56800 [==============================] - 1169s - loss: 0.0013 - acc: 0.9996 - val_loss: 2.1140 - val_acc: 0.7496\n",
      "Epoch 45/50\n",
      "56768/56800 [============================>.] - ETA: 0s - loss: 0.0010 - acc: 0.9998Epoch 00044: val_acc did not improve\n",
      "56800/56800 [==============================] - 1192s - loss: 0.0010 - acc: 0.9998 - val_loss: 1.6029 - val_acc: 0.8324\n",
      "Epoch 46/50\n",
      "56768/56800 [============================>.] - ETA: 0s - loss: 3.3356e-04 - acc: 0.9999Epoch 00045: val_acc did not improve\n",
      "56800/56800 [==============================] - 1162s - loss: 3.3337e-04 - acc: 0.9999 - val_loss: 1.6561 - val_acc: 0.8248\n",
      "Epoch 47/50\n",
      "56768/56800 [============================>.] - ETA: 0s - loss: 4.9092e-04 - acc: 0.9999Epoch 00046: val_acc did not improve\n",
      "56800/56800 [==============================] - 1244s - loss: 4.9064e-04 - acc: 0.9999 - val_loss: 1.7511 - val_acc: 0.7892\n",
      "Epoch 48/50\n",
      "56768/56800 [============================>.] - ETA: 0s - loss: 6.7533e-04 - acc: 0.9998Epoch 00047: val_acc did not improve\n",
      "56800/56800 [==============================] - 1209s - loss: 6.7495e-04 - acc: 0.9998 - val_loss: 1.5872 - val_acc: 0.8400\n",
      "Epoch 49/50\n",
      "56768/56800 [============================>.] - ETA: 0s - loss: 6.7973e-04 - acc: 0.9998Epoch 00048: val_acc did not improve\n",
      "56800/56800 [==============================] - 1193s - loss: 6.7935e-04 - acc: 0.9998 - val_loss: 1.5605 - val_acc: 0.8352\n",
      "Epoch 50/50\n",
      "56768/56800 [============================>.] - ETA: 0s - loss: 3.2182e-04 - acc: 0.9999Epoch 00049: val_acc did not improve\n",
      "56800/56800 [==============================] - 1187s - loss: 3.2164e-04 - acc: 0.9999 - val_loss: 1.4617 - val_acc: 0.8500\n",
      "('Test score:', 1.4617160338401793)\n",
      "('Test accuracy:', 0.84999999999999998)\n"
     ]
    }
   ],
   "source": [
    "from sklearn.cross_validation import train_test_split\n",
    "\n",
    "batch_size = 32\n",
    "nb_epochs = 50\n",
    "\n",
    "X_train = np.array(elements, dtype='float32')\n",
    "Y_train = np.eye(number_signs, dtype='uint8')[classes]\n",
    "X_val = np.array(val_elements, dtype='float32')\n",
    "Y_val = np.eye(number_signs, dtype='uint8')[val_classes]\n",
    "\n",
    "\n",
    "datagen = ImageDataGenerator(featurewise_center=False,\n",
    "                             featurewise_std_normalization=False,\n",
    "                             width_shift_range=0.1,\n",
    "                             height_shift_range=0.1,\n",
    "                             zoom_range=0.2,\n",
    "                             shear_range=0.1,\n",
    "                             rotation_range=10.)\n",
    "\n",
    "datagen.fit(X_train)\n",
    "\n",
    "#early_stopping_monitor = EarlyStopping(patience=10)\n",
    "filepath = \"weights.best.hdf5\"\n",
    "checkpoint = ModelCheckpoint(filepath, monitor='val_acc', verbose=1, save_best_only=True, mode='max')\n",
    "callbacks_list = [checkpoint]\n",
    "\n",
    "#history = model.fit_generator(datagen.flow(X_train, Y_train, batch_size=batch_size),steps_per_epoch=1000,epochs=nb_epochs,callbacks=callbacks_list, validation_data=(X_val, Y_val))\n",
    "history = model.fit(X_train, Y_train,batch_size=batch_size,epochs=nb_epochs,callbacks=callbacks_list, validation_data=(X_val,Y_val))\n",
    "score = model.evaluate(X_val, Y_val, verbose=0)\n",
    "\n",
    "print('Test score:', score[0])\n",
    "print('Test accuracy:', score[1])"
   ]
  },
  {
   "cell_type": "code",
   "execution_count": 10,
   "metadata": {},
   "outputs": [
    {
     "data": {
      "image/png": "[encoded data removed]",
      "text/plain": [
       "<matplotlib.figure.Figure at 0x18a147250>"
      ]
     },
     "metadata": {},
     "output_type": "display_data"
    },
    {
     "data": {
      "text/plain": [
       "<matplotlib.figure.Figure at 0x18a15bd90>"
      ]
     },
     "metadata": {},
     "output_type": "display_data"
    },
    {
     "data": {
      "image/png": "[encoded data removed]",
      "text/plain": [
       "<matplotlib.figure.Figure at 0x18a5b6550>"
      ]
     },
     "metadata": {},
     "output_type": "display_data"
    },
    {
     "data": {
      "text/plain": [
       "<matplotlib.figure.Figure at 0x18a17f210>"
      ]
     },
     "metadata": {},
     "output_type": "display_data"
    }
   ],
   "source": [
    "# summarize history for accuracy\n",
    "plt.plot(history.history['acc'])\n",
    "plt.plot(history.history['val_acc'])\n",
    "plt.title('model accuracy')\n",
    "plt.ylabel('accuracy')\n",
    "plt.xlabel('epoch')\n",
    "plt.legend(['train', 'test'], loc='upper left')\n",
    "plt.ylim([0.0,1.0])\n",
    "yintreval = np.arange(0.0, 1.05, 0.05)\n",
    "xintreval = np.arange(0, 51, 2)\n",
    "plt.yticks(yintreval)\n",
    "plt.xticks(xintreval)\n",
    "plt.grid()\n",
    "fig = plt.figure()\n",
    "fig.savefig('CNN -accuracy.png')\n",
    "plt.show()\n",
    "# summarize history for loss\n",
    "plt.plot(history.history['loss'])\n",
    "plt.plot(history.history['val_loss'])\n",
    "plt.title('model loss')\n",
    "plt.ylabel('loss')\n",
    "plt.xlabel('epoch')\n",
    "plt.legend(['train', 'test'], loc='upper left')\n",
    "plt.xticks(xintreval)\n",
    "plt.grid()\n",
    "fig = plt.figure()\n",
    "fig.savefig('CNN -loss.png')\n",
    "plt.show()"
   ]
  },
  {
   "cell_type": "code",
   "execution_count": 11,
   "metadata": {
    "collapsed": true
   },
   "outputs": [],
   "source": [
    "orig_stdout = sys.stdout\n",
    "f = open('Model_Summary.txt', 'w')\n",
    "sys.stdout = f\n",
    "print(model.summary())\n",
    "sys.stdout = orig_stdout\n",
    "f.close()"
   ]
  },
  {
   "cell_type": "code",
   "execution_count": 12,
   "metadata": {
    "collapsed": true
   },
   "outputs": [],
   "source": [
    "orig_stdout = sys.stdout\n",
    "f = open('History.txt', 'w')\n",
    "sys.stdout = f\n",
    "print(history.history)\n",
    "print('Test score:', score[0])\n",
    "print('Test accuracy:', score[1])\n",
    "sys.stdout = orig_stdout\n",
    "f.close()"
   ]
  },
  {
   "cell_type": "code",
   "execution_count": 13,
   "metadata": {
    "scrolled": true
   },
   "outputs": [
    {
     "name": "stdout",
     "output_type": "stream",
     "text": [
      "2496/2500 [============================>.] - ETA: 0s('Test score:', 0.90288997678756711)\n",
      "('Test accuracy:', 0.86599999999999999)\n"
     ]
    }
   ],
   "source": [
    "model.load_weights(\"weights.best.hdf5\")\n",
    "score = model.evaluate(X_val, Y_val, verbose=1)\n",
    "\n",
    "print('Test score:', score[0])\n",
    "print('Test accuracy:', score[1])"
   ]
  },
  {
   "cell_type": "code",
   "execution_count": 14,
   "metadata": {
    "collapsed": true,
    "scrolled": true
   },
   "outputs": [],
   "source": [
    "from IPython.display import Image, display, SVG\n",
    "from keras.utils.vis_utils import model_to_dot\n",
    "import pydot\n",
    "import graphviz\n",
    "\n",
    "# Save the model as png file\n",
    "from keras.utils.vis_utils import plot_model\n",
    "plot_model(model, to_file='model.png', show_shapes=True)  "
   ]
  },
  {
   "cell_type": "code",
   "execution_count": null,
   "metadata": {
    "collapsed": true
   },
   "outputs": [],
   "source": [
    "Y_predict = model.predict(X_val)"
   ]
  },
  {
   "cell_type": "code",
   "execution_count": null,
   "metadata": {
    "collapsed": true
   },
   "outputs": [],
   "source": []
  }
 ],
 "metadata": {
  "kernelspec": {
   "display_name": "Python 2",
   "language": "python",
   "name": "python2"
  },
  "language_info": {
   "codemirror_mode": {
    "name": "ipython",
    "version": 2
   },
   "file_extension": ".py",
   "mimetype": "text/x-python",
   "name": "python",
   "nbconvert_exporter": "python",
   "pygments_lexer": "ipython2",
   "version": "2.7.13"
  }
 },
 "nbformat": 4,
 "nbformat_minor": 2
}
